{
 "cells": [
  {
   "cell_type": "markdown",
   "metadata": {},
   "source": [
    "## General pipeline for demultiplexing paired-end reads, deblurring, and taxonomy assignment"
   ]
  },
  {
   "cell_type": "markdown",
   "metadata": {},
   "source": [
    "#### Before you begin"
   ]
  },
  {
   "cell_type": "markdown",
   "metadata": {},
   "source": [
    "a) log in to gardner\n",
    "   \n",
    "b) load required modules  \n",
    "\n",
    "    module load gcc/6.2.0\n",
    "    module load python/3.5.3\n",
    "    module load qiime2\n",
    "   \n",
    "c) set working directory, e.g.\n",
    "\n",
    "    setwd(\"/group/gilbert-lab/Sjaarda/Cuttlefish/\")"
   ]
  },
  {
   "cell_type": "markdown",
   "metadata": {
    "collapsed": true
   },
   "source": [
    "#### Begin analysis"
   ]
  },
  {
   "cell_type": "markdown",
   "metadata": {},
   "source": [
    "1) Validate mapping file:"
   ]
  },
  {
   "cell_type": "code",
   "execution_count": null,
   "metadata": {
    "collapsed": true
   },
   "outputs": [],
   "source": [
    "validate_mapping_file.py -m mapping/cuttlefish_mappingfile.txt -o mapping/validate_mappingfile"
   ]
  },
  {
   "cell_type": "markdown",
   "metadata": {},
   "source": [
    "2) Unzip read and barcode fastq files; join reads and barcodes; demultiplex."
   ]
  },
  {
   "cell_type": "code",
   "execution_count": null,
   "metadata": {
    "collapsed": true
   },
   "outputs": [],
   "source": [
    "#Unzip Fastqs\n",
    "\n",
    "gunzip -c rawseq/Undetermined_S0_L001_I1_001.fastq.gz > rawseq/barcodes.fastq &&\n",
    "gunzip -c rawseq/Undetermined_S0_L001_R1_001.fastq.gz > rawseq/read1.fastq &&\n",
    "gunzip -c rawseq/Undetermined_S0_L001_R2_001.fastq.gz > rawseq/read2.fastq\n",
    "\n",
    "#Join Reads & Barcodes\n",
    "mkdir joined\n",
    "scripts/ea-utils/bin/fastq-join rawdata/Gilbert_MiSeq12_18_17_NoIndex_L001_R1_001.fastq rawdata/Gilbert_MiSeq12_18_17_NoIndex_L001_R2_001.fastq -o rawdata/joined/out.%.fastq > rawdata/joined/out.stats.txt\n",
    "\n",
    "scripts/fastq-barcode.pl rawdata/barcodes.fastq rawdata/joined/out.join.fastq > rawdata/joined/out.barcodes.fastq\n",
    "\n",
    "#Demultiplex Reads\n",
    "mkdir demultiplexed\n",
    "split_libraries_fastq.py -i rawdata/joined/out.join.fastq -b rawdata/joined/out.barcodes.fastq -m mapping/cuttlefish_mappingfile.txt -o rawdata/demultiplexed/cuttlefish_demux_seqs --barcode_type=12 --max_barcode_errors=0 --store_demultiplexed_fastq\n",
    "\n",
    "#Download FastQC program to your local machine (https://www.bioinformatics.babraham.ac.uk/projects/fastqc/)\n",
    "#Open demultiplexed/seqs.fastq in Fastqc to determine parameter for Uparse\n"
   ]
  },
  {
   "cell_type": "markdown",
   "metadata": {},
   "source": [
    "NOTE: Proceed directly to step 4 (skip 3) if running Deblur; Deblur incorporates chimera and singleton removal\n",
    "\n",
    "3) Run Uparse for quality filtering, dereplication, clustering, and chimera and singleton removal"
   ]
  },
  {
   "cell_type": "code",
   "execution_count": null,
   "metadata": {
    "collapsed": true
   },
   "outputs": [],
   "source": [
    "setwd(\"/group/gilbert-lab/Lutz/Cuttlefish/2017_Experiment/\")\n",
    "mkdir rawdata/uparse\n",
    "\n",
    "#Quality filter\n",
    "usearch9.2.64 -fastq_filter ../rawdata/demultiplexed/CF_seqs/seqs.fastq -fastq_maxee 0.5 -fastq_trunclen 151 -fastaout ../rawdata/uparse/filter_q.fasta -fastqout ../rawdata/uparse/filter_q.fastq\n",
    "\n",
    "# 5850072  Reads (5.9M)                    \n",
    "#         0  Discarded reads length < 151\n",
    "#     75258  Discarded reads with expected errs > 0.50\n",
    "#   5774814  Filtered reads (5.8M, 98.7%)\n",
    "\n",
    "\n",
    "#Dereplicate\n",
    "scripts/usearch9.2.64 -derep_fulllength uparse/filter_q.fasta -fastaout uparse/filter_derep.fasta -sizeout\n",
    "\n",
    "#00:14 1.8Gb   100.0% Reading uparse/filter_q.fasta\n",
    "#00:20 2.0Gb   100.0% DF                           \n",
    "#00:23 2.1Gb  5774814 seqs, 655568 uniques, 499504 singletons (76.2%)\n",
    "#00:23 2.1Gb  Min size 1, median 1, max 1144887, avg 8.81\n",
    "#00:30 2.0Gb   100.0% Writing uparse/filter_derep.fasta\n",
    "\n",
    "#Filter out singletons \n",
    "scripts/usearch9.2.64 -sortbysize uparse/filter_derep.fasta -minsize 2 -fastaout uparse/filter_derep_nosingletons.fasta\n",
    "\n",
    "#00:01 251Mb   100.0% Reading uparse/filter_derep.fasta\n",
    "#00:01 217Mb  Getting sizes                            \n",
    "#00:01 218Mb  Sorting 156064 sequences\n",
    "#00:03 218Mb   100.0% Writing output\n",
    "\n",
    "############\n",
    "# Optional # \n",
    "############\n",
    "#Following steps are only necessary if you are not using Deblur or DADA2\n",
    "\n",
    "#Cluster OTUs (replace \"usearch9.2.64\" with \"vsearch\" if memory exceeded)\n",
    "scripts/usearch9.2.64 -cluster_otus uparse/filter_qf_derep_mc2.fasta -otus uparse/filter_qfderepmc2_otu.fasta -relabel OTU_ -sizeout -uparseout uparse/results.txt\n",
    "\n",
    "#Remove chimeric sequences (replace \"usearch9.2.64\" with \"vsearch\" if memory exceeded)\n",
    "scripts/usearch9.2.64 -uchime_ref uparse/filter_qfderepmc2_otu.fasta -db gg_13_8_otus/rep_set/97_otus.fasta"
   ]
  },
  {
   "cell_type": "markdown",
   "metadata": {},
   "source": [
    "4) Identify sub-OTUs (sOTU) using Deblur"
   ]
  },
  {
   "cell_type": "markdown",
   "metadata": {},
   "source": [
    "#### Input file:\n",
    "Demultiplexed FASTA file (e.g. filter_derep.fasta)\n",
    "\n",
    "#### Output files:\n",
    "    1) reference-hit.biom\n",
    "    2) reference-hit.seqs.fa\n",
    "    3) reference-non-hit.biom\n",
    "    4) reference-non-hit.seqs.fa\n",
    "    5) all.biom (contains both 1 and 3)\n",
    "    6) all.seqs.fa (contains both 2 and 4)\n",
    "\n",
    "We will concern ourselves with reference-hit outputs (1 and 2)"
   ]
  },
  {
   "cell_type": "code",
   "execution_count": null,
   "metadata": {
    "collapsed": true
   },
   "outputs": [],
   "source": [
    "#Run Deblur\n",
    "\n",
    "deblur workflow --seqs-fp /group/gilbert-lab/Lutz/Cuttlefish/2017_Experiment/rawdata/demultiplexed/cuttlefish_demux_seqs/seqs.fna --output-dir /group/gilbert-lab/Lutz/Cuttlefish/2017_Experiment/rawdata/deblur/deblur_results -t 150"
   ]
  },
  {
   "cell_type": "markdown",
   "metadata": {},
   "source": [
    "To run following Qiime-1 scripts; load older python module (I prefer to work in new terminal window)"
   ]
  },
  {
   "cell_type": "code",
   "execution_count": null,
   "metadata": {
    "collapsed": true
   },
   "outputs": [],
   "source": [
    "module load gcc/6.2.0\n",
    "module load python/2.7.13"
   ]
  },
  {
   "cell_type": "markdown",
   "metadata": {},
   "source": [
    "5) Align sequences (using greengenes reference)"
   ]
  },
  {
   "cell_type": "code",
   "execution_count": null,
   "metadata": {
    "collapsed": true
   },
   "outputs": [],
   "source": [
    "align_seqs.py -i deblur_results/reference-hit.seqs.fa -t /group/gilbert-lab/Lutz/Cuttlefish/2017_Experiment/gg_13_8_otus/rep_set_aligned/85_otus.pynast.fasta -o align"
   ]
  },
  {
   "cell_type": "markdown",
   "metadata": {},
   "source": [
    "6) Make phylogeny"
   ]
  },
  {
   "cell_type": "code",
   "execution_count": null,
   "metadata": {
    "collapsed": true
   },
   "outputs": [],
   "source": [
    "make_phylogeny.py -i $PWD/aligned.fasta -o $PWD/rep_phylo.tre"
   ]
  },
  {
   "cell_type": "markdown",
   "metadata": {},
   "source": [
    "7) Assign taxonomy"
   ]
  },
  {
   "cell_type": "code",
   "execution_count": null,
   "metadata": {
    "collapsed": true
   },
   "outputs": [],
   "source": [
    "assign_taxonomy.py -i reference-hit.seqs_aligned.fasta -r /group/gilbert-lab/Lutz/Cuttlefish/2017_Experiment/gg_13_8_otus/rep_set/97_otus.fasta -t /group/gilbert-lab/Lutz/Cuttlefish/2017_Experiment/gg_13_8_otus/taxonomy/97_otu_taxonomy.txt -o /group/gilbert-lab/Lutz/Cuttlefish/2017_Experiment/taxon_assignment/"
   ]
  },
  {
   "cell_type": "markdown",
   "metadata": {
    "collapsed": true
   },
   "source": [
    "8) biom - add metadata"
   ]
  },
  {
   "cell_type": "code",
   "execution_count": null,
   "metadata": {
    "collapsed": true
   },
   "outputs": [],
   "source": [
    "biom add-metadata --sc-separated taxonomy --observation-header OTUID,taxonomy --observation-metadata-fp /group/gilbert-lab/Lutz/Cuttlefish/2017_Experiment/rawdata/deblur/deblur_results/align/uclust_assigned_taxonomy/reference-hit.seqs_aligned_tax_assignments.txt -i /group/gilbert-lab/Lutz/Cuttlefish/2017_Experiment/rawdata/deblur/deblur_results/reference-hit.biom -o /group/gilbert-lab/Lutz/Cuttlefish/2017_Experiment/rawdata/deblur/deblur_results/Final_biom/Cuttlefish_deblur.biom"
   ]
  }
 ],
 "metadata": {
  "kernelspec": {
   "display_name": "R 3.4.1",
   "language": "R",
   "name": "ir3.4.1"
  },
  "language_info": {
   "codemirror_mode": "r",
   "file_extension": ".r",
   "mimetype": "text/x-r-source",
   "name": "R",
   "pygments_lexer": "r",
   "version": "3.4.1"
  }
 },
 "nbformat": 4,
 "nbformat_minor": 2
}
